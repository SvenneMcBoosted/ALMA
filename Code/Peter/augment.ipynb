{
 "cells": [
  {
   "attachments": {},
   "cell_type": "markdown",
   "metadata": {},
   "source": [
    "# Augment FITS files to a dataset with no BIAS and finaly save as PNG"
   ]
  },
  {
   "cell_type": "code",
   "execution_count": 1,
   "metadata": {},
   "outputs": [],
   "source": [
    "import numpy as np\n",
    "from matplotlib import pyplot as plt\n",
    "from astropy.nddata import Cutout2D\n",
    "from astropy import units\n",
    "from astropy.io import fits\n",
    "from astropy.modeling.models import Gaussian2D\n",
    "import glob\n",
    "from astropy.visualization import astropy_mpl_style\n",
    "from astropy.io import fits\n",
    "from astropy.utils.data import get_pkg_data_filename\n",
    "from clustar.core import ClustarData\n",
    "from astropy.visualization import ZScaleInterval\n",
    "from astropy.io import fits\n",
    "import random\n",
    "from scipy.ndimage import rotate"
   ]
  },
  {
   "cell_type": "code",
   "execution_count": 2,
   "metadata": {},
   "outputs": [],
   "source": [
    "im_size = 100\n",
    "shift_interval = 1\n",
    "\n",
    "gaussians = []"
   ]
  },
  {
   "cell_type": "code",
   "execution_count": 28,
   "metadata": {},
   "outputs": [],
   "source": [
    "# Get all the fits files adresses un a dictionary\n",
    "filenames = glob.glob('pngpos/*.fits')\n",
    "data_set = {}\n"
   ]
  },
  {
   "cell_type": "code",
   "execution_count": 17,
   "metadata": {},
   "outputs": [
    {
     "ename": "NameError",
     "evalue": "name 'img_data' is not defined",
     "output_type": "error",
     "traceback": [
      "\u001b[1;31m---------------------------------------------------------------------------\u001b[0m",
      "\u001b[1;31mNameError\u001b[0m                                 Traceback (most recent call last)",
      "Cell \u001b[1;32mIn[17], line 19\u001b[0m\n\u001b[0;32m     17\u001b[0m \u001b[39mfor\u001b[39;00m filename \u001b[39min\u001b[39;00m filenames:\n\u001b[0;32m     18\u001b[0m     data \u001b[39m=\u001b[39m fits\u001b[39m.\u001b[39mgetdata(filename)\n\u001b[1;32m---> 19\u001b[0m     img_data\u001b[39m.\u001b[39mshape \u001b[39m=\u001b[39m (img_data\u001b[39m.\u001b[39mshape[\u001b[39m2\u001b[39m], img_data\u001b[39m.\u001b[39mshape[\u001b[39m3\u001b[39m])\n\u001b[0;32m     21\u001b[0m     data \u001b[39m=\u001b[39m crop_image(data, \u001b[39m100\u001b[39m)\n\u001b[0;32m     22\u001b[0m     data \u001b[39m=\u001b[39m ZScaleInterval(contrast\u001b[39m=\u001b[39m\u001b[39m0.25\u001b[39m, nsamples\u001b[39m=\u001b[39m\u001b[39m1\u001b[39m)(data)\u001b[39m.\u001b[39msqueeze()\n",
      "\u001b[1;31mNameError\u001b[0m: name 'img_data' is not defined"
     ]
    }
   ],
   "source": [
    "#Save the fits files to png files\n",
    "\n",
    "def crop_image(image_to_crop, image_size):\n",
    "    (x_pixels, y_pixels) = image_to_crop.shape\n",
    "    x_lower = int(x_pixels/2 - image_size)\n",
    "    x_upper = int(x_pixels/2 + image_size)\n",
    "    y_lower = int(y_pixels/2 - image_size)\n",
    "    y_upper = int(y_pixels/2 + image_size)\n",
    "    return image_to_crop[(x_lower):(x_upper), (y_lower):(y_upper)]\n",
    "\n",
    "for filename in filenames:\n",
    "    data = fits.getdata(filename)\n",
    "    img_data.shape = (img_data.shape[2], img_data.shape[3])\n",
    "\n",
    "    data = crop_image(data, 100)\n",
    "    data = ZScaleInterval(contrast=0.25, nsamples=1)(data).squeeze()\n",
    "    save_png(data, filename.strip('.fits').strip('data/'), 'png')\n",
    "\n",
    "\n",
    "    \n"
   ]
  },
  {
   "cell_type": "code",
   "execution_count": 20,
   "metadata": {},
   "outputs": [],
   "source": [
    "def find_object_pos(file):\n",
    "    cd = ClustarData(path=file, group_factor=.25)\n",
    "    if len(cd.groups) > 0:\n",
    "        disk = cd.groups[0]\n",
    "        bounds = disk.image.bounds\n",
    "        x = (bounds[2] + bounds[3])/2\n",
    "        y = (bounds[0] + bounds[1])/2\n",
    "        return (x, y)\n",
    "    else:\n",
    "        print(\"No object found in {}\".format(file))\n",
    "        return None\n"
   ]
  },
  {
   "cell_type": "code",
   "execution_count": 39,
   "metadata": {},
   "outputs": [
    {
     "name": "stdout",
     "output_type": "stream",
     "text": [
      "pngpos\\b335_2017_band6_0.fits\n"
     ]
    },
    {
     "name": "stderr",
     "output_type": "stream",
     "text": [
      "WARNING: AstropyDeprecationWarning: \"nsamples\" was deprecated in version 5.2 and will be removed in a future version. Use argument \"n_samples\" instead. [warnings]\n"
     ]
    },
    {
     "ename": "AttributeError",
     "evalue": "'tuple' object has no attribute 'shape'",
     "output_type": "error",
     "traceback": [
      "\u001b[1;31m---------------------------------------------------------------------------\u001b[0m",
      "\u001b[1;31mAttributeError\u001b[0m                            Traceback (most recent call last)",
      "Cell \u001b[1;32mIn[39], line 25\u001b[0m\n\u001b[0;32m     23\u001b[0m plt\u001b[39m.\u001b[39mimshow(img_data, origin\u001b[39m=\u001b[39m\u001b[39m'\u001b[39m\u001b[39mlower\u001b[39m\u001b[39m'\u001b[39m, cmap\u001b[39m=\u001b[39m\u001b[39m'\u001b[39m\u001b[39mrainbow\u001b[39m\u001b[39m'\u001b[39m, aspect\u001b[39m=\u001b[39m\u001b[39m'\u001b[39m\u001b[39mauto\u001b[39m\u001b[39m'\u001b[39m)\n\u001b[0;32m     24\u001b[0m plt\u001b[39m.\u001b[39maxis(\u001b[39m'\u001b[39m\u001b[39moff\u001b[39m\u001b[39m'\u001b[39m)\n\u001b[1;32m---> 25\u001b[0m plt\u001b[39m.\u001b[39;49mimsave(file \u001b[39m+\u001b[39;49m \u001b[39m'\u001b[39;49m\u001b[39m.png\u001b[39;49m\u001b[39m'\u001b[39;49m, Cutout2D(img_data,\n\u001b[0;32m     26\u001b[0m            object_pos, crop_size), cmap\u001b[39m=\u001b[39;49m\u001b[39m'\u001b[39;49m\u001b[39mrainbow\u001b[39;49m\u001b[39m'\u001b[39;49m)\n\u001b[0;32m     30\u001b[0m gaussians\u001b[39m.\u001b[39mappend(img_data)\n",
      "File \u001b[1;32mc:\\ChalmersWorkspaces\\KandidatArbete\\almaEnv\\lib\\site-packages\\matplotlib\\pyplot.py:2251\u001b[0m, in \u001b[0;36mimsave\u001b[1;34m(fname, arr, **kwargs)\u001b[0m\n\u001b[0;32m   2249\u001b[0m \u001b[39m@_copy_docstring_and_deprecators\u001b[39m(matplotlib\u001b[39m.\u001b[39mimage\u001b[39m.\u001b[39mimsave)\n\u001b[0;32m   2250\u001b[0m \u001b[39mdef\u001b[39;00m \u001b[39mimsave\u001b[39m(fname, arr, \u001b[39m*\u001b[39m\u001b[39m*\u001b[39mkwargs):\n\u001b[1;32m-> 2251\u001b[0m     \u001b[39mreturn\u001b[39;00m matplotlib\u001b[39m.\u001b[39;49mimage\u001b[39m.\u001b[39;49mimsave(fname, arr, \u001b[39m*\u001b[39;49m\u001b[39m*\u001b[39;49mkwargs)\n",
      "File \u001b[1;32mc:\\ChalmersWorkspaces\\KandidatArbete\\almaEnv\\lib\\site-packages\\matplotlib\\image.py:1580\u001b[0m, in \u001b[0;36mimsave\u001b[1;34m(fname, arr, vmin, vmax, cmap, format, origin, dpi, metadata, pil_kwargs)\u001b[0m\n\u001b[0;32m   1578\u001b[0m \u001b[39mif\u001b[39;00m pil_kwargs \u001b[39mis\u001b[39;00m \u001b[39mNone\u001b[39;00m:\n\u001b[0;32m   1579\u001b[0m     pil_kwargs \u001b[39m=\u001b[39m {}\n\u001b[1;32m-> 1580\u001b[0m pil_shape \u001b[39m=\u001b[39m (rgba\u001b[39m.\u001b[39;49mshape[\u001b[39m1\u001b[39m], rgba\u001b[39m.\u001b[39mshape[\u001b[39m0\u001b[39m])\n\u001b[0;32m   1581\u001b[0m image \u001b[39m=\u001b[39m PIL\u001b[39m.\u001b[39mImage\u001b[39m.\u001b[39mfrombuffer(\n\u001b[0;32m   1582\u001b[0m     \u001b[39m\"\u001b[39m\u001b[39mRGBA\u001b[39m\u001b[39m\"\u001b[39m, pil_shape, rgba, \u001b[39m\"\u001b[39m\u001b[39mraw\u001b[39m\u001b[39m\"\u001b[39m, \u001b[39m\"\u001b[39m\u001b[39mRGBA\u001b[39m\u001b[39m\"\u001b[39m, \u001b[39m0\u001b[39m, \u001b[39m1\u001b[39m)\n\u001b[0;32m   1583\u001b[0m \u001b[39mif\u001b[39;00m \u001b[39mformat\u001b[39m \u001b[39m==\u001b[39m \u001b[39m\"\u001b[39m\u001b[39mpng\u001b[39m\u001b[39m\"\u001b[39m:\n\u001b[0;32m   1584\u001b[0m     \u001b[39m# Only use the metadata kwarg if pnginfo is not set, because the\u001b[39;00m\n\u001b[0;32m   1585\u001b[0m     \u001b[39m# semantics of duplicate keys in pnginfo is unclear.\u001b[39;00m\n",
      "\u001b[1;31mAttributeError\u001b[0m: 'tuple' object has no attribute 'shape'"
     ]
    },
    {
     "data": {
      "image/png": "[encoded data removed]",
      "text/plain": [
       "<Figure size 640x480 with 1 Axes>"
      ]
     },
     "metadata": {},
     "output_type": "display_data"
    }
   ],
   "source": [
    "\n",
    "im_size = 100\n",
    "\n",
    "for file in filenames:\n",
    "    img_data = fits.getdata(file)\n",
    "    object_pos = find_object_pos(file)\n",
    "    if object_pos != None:\n",
    "        # Data shape is (1, 1, x, y) we want it to be (x, y)\n",
    "        img_data.shape = (img_data.shape[2], img_data.shape[3])\n",
    "        # Set the size of the crop in pixels\n",
    "        crop_size = units.Quantity((im_size, im_size), units.pixel)\n",
    "        # img_crop = Cutout2D(img_data, object_pos, crop_size)\n",
    "        print(file)\n",
    "        # save_png(img_crop.data, file, 'png')\n",
    "\n",
    "        zscale = ZScaleInterval(contrast=0.25, nsamples=1)\n",
    "        img_data = fits.getdata(file)\n",
    "        img_data = zscale(data).squeeze()\n",
    "\n",
    "        plt.imshow(img_data, origin='lower', cmap='rainbow', aspect='auto')\n",
    "        plt.axis('off')\n",
    "        plt.imsave(file + '.png', Cutout2D(img_data,\n",
    "                   object_pos, crop_size), cmap='rainbow')\n",
    "\n",
    "\n",
    "\n",
    "        gaussians.append(img_data)"
   ]
  },
  {
   "cell_type": "code",
   "execution_count": 6,
   "metadata": {},
   "outputs": [],
   "source": [
    "# This function flips the image horizontally, vertically or both\n",
    "def flip_disk(disk_to_flip):\n",
    "\n",
    "    flipped_disk = disk_to_flip\n",
    "\n",
    "    if random.getrandbits(1):\n",
    "        flipped_disk = np.fliplr(flipped_disk)\n",
    "\n",
    "    if random.getrandbits(1):\n",
    "        flipped_disk = np.flipud(flipped_disk)\n",
    "\n",
    "    return flipped_disk\n"
   ]
  },
  {
   "cell_type": "code",
   "execution_count": 7,
   "metadata": {},
   "outputs": [],
   "source": [
    "# This function rotates the image by a random angle\n",
    "def rotate_disk(disk_to_rotate):\n",
    "\n",
    "    # Rotate the disk\n",
    "    rotated_disk = rotate(disk_to_rotate, random.randint(-180, 180))\n",
    "    # Since rotating pads the image, we need to crop it to the original size\n",
    "    x, y = (len(rotated_disk[0]), len(rotated_disk))\n",
    "\n",
    "    shift_interval = 8\n",
    "    si = shift_interval + 1\n",
    "\n",
    "    rand_x_shift = random.randint(-shift_interval, shift_interval)\n",
    "    rand_y_shift = random.randint(-shift_interval, shift_interval)\n",
    "\n",
    "    (x_lower, x_upper) = int((x/2 - im_size/2)) + \\\n",
    "        rand_x_shift, int(x/2 + im_size/2) + rand_x_shift\n",
    "    (y_lower, y_upper) = int((y/2 - im_size/2)) + \\\n",
    "        rand_y_shift, int(y/2 + im_size/2) + rand_y_shift\n",
    "\n",
    "    return rotated_disk[(x_lower+si):(x_upper-si), (y_lower+si):(y_upper-si)]\n"
   ]
  },
  {
   "cell_type": "code",
   "execution_count": 8,
   "metadata": {},
   "outputs": [],
   "source": [
    "def crop_image(image_to_crop, image_size):\n",
    "    (x_pixels, y_pixels) = image_to_crop.shape\n",
    "    x_lower = int(x_pixels/2 - image_size)\n",
    "    x_upper = int(x_pixels/2 + image_size)\n",
    "    y_lower = int(y_pixels/2 - image_size)\n",
    "    y_upper = int(y_pixels/2 + image_size)\n",
    "    return image_to_crop[(x_lower):(x_upper), (y_lower):(y_upper)]"
   ]
  },
  {
   "cell_type": "code",
   "execution_count": 9,
   "metadata": {},
   "outputs": [],
   "source": [
    "def augment(disk):\n",
    "    return rotate_disk(flip_disk(disk))\n"
   ]
  },
  {
   "cell_type": "code",
   "execution_count": 10,
   "metadata": {},
   "outputs": [],
   "source": [
    "def generate_dataset(folder_address, augmentations_per_file):\n",
    "    count = 0\n",
    "    for file in filenames:\n",
    "        img_data = fits.getdata(file)\n",
    "        object_pos = find_object_pos(file)\n",
    "        if object_pos != None:\n",
    "            # Data shape is (1, 1, x, y) we want it to be (x, y)\n",
    "            img_data.shape = (img_data.shape[2], img_data.shape[3])\n",
    "            # Set the size of the crop in pixels\n",
    "            crop_size = units.Quantity((im_size, im_size), units.pixel)\n",
    "            disk = Cutout2D(img_data, object_pos, crop_size)\n",
    "\n",
    "            for i in range(augmentations_per_file):\n",
    "\n",
    "                zscale = ZScaleInterval(contrast=0.25, nsamples=1)\n",
    "\n",
    "                fig =plt.figure(figsize=(im_size, im_size),\n",
    "                              dpi=100, frameon=False)\n",
    "                ax = plt.Axes(fig, [0., 0., 1., 1.]).set_axis_off()\n",
    "                fig.add_axes(ax)\n",
    "\n",
    "                ax.imshow(zscale(augment(disk)),\n",
    "                          origin='lower', cmap='rainbow', aspect='auto')\n",
    "                          \n",
    "                open('data/pos_dataset/pos_{}.png'.format(count), 'w').close()\n",
    "                fig.savefig('data/pos_dataset/pos_{}.png'.format(count))\n",
    "                count += 1"
   ]
  },
  {
   "cell_type": "code",
   "execution_count": 11,
   "metadata": {},
   "outputs": [],
   "source": [
    "# This function generates the positive dataset\n",
    "def generate_pos_dataset(augmentations_per_gaussian):\n",
    "    count = 0\n",
    "    pos_dataset = np.array([])\n",
    "    for gaussian in gaussians:\n",
    "        for i in range(0, augmentations_per_gaussian):\n",
    "            zscale = ZScaleInterval(contrast=0.25, nsamples=1)\n",
    "            # Augment the data and add it to the dataset as png\n",
    "            # plt.imshow(zscale(augment(gaussian.data)),\n",
    "            # origin='lower', cmap='rainbow')\n",
    "            # plt.colorbar()\n",
    "            # plt.title(\"Augmented gaussian\")\n",
    "            # plt.show()\n",
    "\n",
    "            plt.figure()\n",
    "            plt.figure(figsize=(im_size, im_size), dpi=100)\n",
    "\n",
    "            fig = plt.figure(frameon=False)\n",
    "            ax = plt.Axes(fig, [0., 0., 1., 1.])\n",
    "            ax.set_axis_off()\n",
    "            fig.add_axes(ax)\n",
    "            ax.imshow(zscale(augment(gaussian.data)),\n",
    "                      origin='lower', cmap='rainbow', aspect='auto')\n",
    "            open('data/pos_dataset/pos_{}.png'.format(count), 'w').close()\n",
    "            fig.savefig('data/pos_dataset/pos_{}.png'.format(count))\n",
    "            count += 1\n",
    "            \n",
    "\n",
    "            # pos_dataset.append(zscale(augment(gaussian.data)))\n",
    "            # np.append(pos_dataset, zscale(augment(gaussian.data)))\n",
    "            print(\"Appending to positive dataset\")\n",
    "    return pos_dataset\n",
    "\n",
    "# generate_pos_dataset(50)\n"
   ]
  },
  {
   "cell_type": "code",
   "execution_count": 12,
   "metadata": {},
   "outputs": [],
   "source": [
    "def generate_neg_dataset(augmentations_per_gaussian):\n",
    "    neg_dataset = np.array([])\n",
    "    im_center = im_size/2\n",
    "    y, x = np.mgrid[0:im_size, 0:im_size]\n",
    "    count = 0\n",
    "    for i in range(0, len(filenames)):\n",
    "        for j in range(0, augmentations_per_gaussian):\n",
    "            rand_x_shift = random.randint(-shift_interval, shift_interval)\n",
    "            rand_y_shift = random.randint(-shift_interval, shift_interval)\n",
    "            data = Gaussian2D(1, im_center + rand_x_shift,\n",
    "                              im_center +\n",
    "                              rand_y_shift, random.randrange(1, 6),\n",
    "                              random.randrange(1, 6), theta=random.randrange(0, 2))(x, y)\n",
    "\n",
    "            plt.figure()\n",
    "            plt.figure(figsize=(im_size, im_size), dpi=100)\n",
    "\n",
    "            fig = plt.figure(frameon=False)\n",
    "            ax = plt.Axes(fig, [0., 0., 1., 1.])\n",
    "            ax.set_axis_off()\n",
    "            fig.add_axes(ax)\n",
    "            ax.imshow(zscale(augment(data)),\n",
    "                      origin='lower', cmap='rainbow', aspect='auto')\n",
    "            open('data/neg_dataset/neg_{}.png'.format(count), 'w').close()\n",
    "            fig.savefig('data/neg_dataset/neg_{}.png'.format(count))\n",
    "            count += 1\n",
    "\n",
    "            # zscale = ZScaleInterval(contrast=0.25, nsamples=1)\n",
    "            # np.append(neg_dataset, zscale(augment(data)))\n",
    "            # neg_dataset.append(zscale(augment(data)))\n",
    "            print(\"Appended negative gaussian\")\n",
    "    return neg_dataset\n",
    "\n",
    "# generate_neg_dataset(50)\n"
   ]
  },
  {
   "cell_type": "code",
   "execution_count": 13,
   "metadata": {},
   "outputs": [
    {
     "ename": "IndexError",
     "evalue": "list index out of range",
     "output_type": "error",
     "traceback": [
      "\u001b[1;31m---------------------------------------------------------------------------\u001b[0m",
      "\u001b[1;31mIndexError\u001b[0m                                Traceback (most recent call last)",
      "Cell \u001b[1;32mIn[13], line 12\u001b[0m\n\u001b[0;32m      8\u001b[0m     new_data \u001b[39m=\u001b[39m (data1 \u001b[39m+\u001b[39m data2)\n\u001b[0;32m      9\u001b[0m     \u001b[39mreturn\u001b[39;00m new_data\n\u001b[1;32m---> 12\u001b[0m fil1 \u001b[39m=\u001b[39m filenames[\u001b[39m2\u001b[39;49m]\n\u001b[0;32m     13\u001b[0m fil2 \u001b[39m=\u001b[39m filenames[\u001b[39m1\u001b[39m]\n\u001b[0;32m     14\u001b[0m bild \u001b[39m=\u001b[39m add_images(fil1,fil2)\n",
      "\u001b[1;31mIndexError\u001b[0m: list index out of range"
     ]
    }
   ],
   "source": [
    "def add_images(file1, file2):\n",
    "    data1 = fits.getdata(file1)\n",
    "    data2 = fits.getdata(file2)\n",
    "    data1 = data1.squeeze()\n",
    "    data2 = data2.squeeze()\n",
    "    data1 = crop_image(data1,100)\n",
    "    data2 = crop_image(data2,100)\n",
    "    new_data = (data1 + data2)\n",
    "    return new_data\n",
    "\n",
    "\n",
    "fil1 = filenames[2]\n",
    "fil2 = filenames[1]\n",
    "bild = add_images(fil1,fil2)\n",
    "plt.imshow(bild, origin='lower', cmap='rainbow')\n",
    "plt.show()\n",
    "\n",
    "\n"
   ]
  }
 ],
 "metadata": {
  "kernelspec": {
   "display_name": "almaEnv",
   "language": "python",
   "name": "python3"
  },
  "language_info": {
   "codemirror_mode": {
    "name": "ipython",
    "version": 3
   },
   "file_extension": ".py",
   "mimetype": "text/x-python",
   "name": "python",
   "nbconvert_exporter": "python",
   "pygments_lexer": "ipython3",
   "version": "3.8.0"
  },
  "orig_nbformat": 4,
  "vscode": {
   "interpreter": {
    "hash": "3477cbd5c46ebf9b03af2980a1a3ef7a11a21d4dc97b8b34a6fea4fec8bcb770"
   }
  }
 },
 "nbformat": 4,
 "nbformat_minor": 2
}
