{
 "cells": [
  {
   "attachments": {},
   "cell_type": "markdown",
   "metadata": {},
   "source": [
    "# Train a CNN with a .fits file as input"
   ]
  },
  {
   "cell_type": "code",
   "execution_count": 2,
   "metadata": {},
   "outputs": [
    {
     "name": "stdout",
     "output_type": "stream",
     "text": [
      "Num GPUs Available:  0\n"
     ]
    }
   ],
   "source": [
    "# imports\n",
    "from __future__ import print_function\n",
    "import keras\n",
    "from keras import utils as np_utils\n",
    "import tensorflow\n",
    "from keras import datasets, layers, models\n",
    "from keras.datasets import mnist\n",
    "from keras.models import Sequential\n",
    "from keras.layers import Dense, Dropout, Flatten\n",
    "from keras.layers import Conv2D, MaxPooling2D\n",
    "from keras import backend as K\n",
    "import tensorflow as tf\n",
    "from matplotlib import pyplot as plt\n",
    "\n",
    "print(\"Num GPUs Available: \", len(tf.config.list_physical_devices('GPU')))\n"
   ]
  },
  {
   "attachments": {},
   "cell_type": "markdown",
   "metadata": {},
   "source": [
    "generate_neg_dataset() and generate_pos_dataset()"
   ]
  },
  {
   "cell_type": "code",
   "execution_count": 18,
   "metadata": {},
   "outputs": [],
   "source": [
    "import joblib\n",
    "from skimage.transform import resize\n",
    "from skimage.io import imread\n",
    "from init_modules import *\n",
    "\n",
    "\n",
    "# Set the path to the data directory\n",
    "filenames = glob.glob('data/fits/pos/*.fits')\n",
    "data_set = {}\n",
    "\n",
    "im_size = 100\n",
    "shift_interval = 1\n",
    "gaussians = []\n",
    "\n",
    "\n",
    "# This function finds the position of the object in the image\n",
    "def find_object_pos(file):\n",
    "    cd = ClustarData(path=file, group_factor=0)\n",
    "    if len(cd.groups) > 0:\n",
    "        disk = cd.groups[0]\n",
    "        bounds = disk.image.bounds\n",
    "        x = (bounds[2] + bounds[3])/2\n",
    "        y = (bounds[0] + bounds[1])/2\n",
    "        print('alwkfnlawnflkn')\n",
    "        return (x, y)\n",
    "    else:\n",
    "        print(\"No object found in {}\".format(file))\n",
    "        return None\n",
    "\n",
    "\n",
    "# This function crops the image to the size of the object\n",
    "def init_cropped_images():\n",
    "    for file in filenames:\n",
    "        img_data = fits.getdata(file)\n",
    "        object_pos = find_object_pos(file)\n",
    "\n",
    "        if object_pos != None:\n",
    "            # Data shape is (1, 1, x, y) we want it to be (x, y)\n",
    "            img_data.shape = (img_data.shape[2], img_data.shape[3])\n",
    "\n",
    "            # Set the size of the crop in pixels\n",
    "            crop_size = units.Quantity((im_size, im_size), units.pixel)\n",
    "\n",
    "            img_crop = Cutout2D(img_data, object_pos, crop_size)\n",
    "\n",
    "            gaussians.append(img_crop)\n",
    "\n",
    "\n",
    "# This function rotates the image by a random angle\n",
    "def rotate_disk(disk_to_rotate, angle):\n",
    "\n",
    "    # Rotate the disk\n",
    "    rotated_disk = rotate(disk_to_rotate, angle)\n",
    "    # Since rotating pads the image, we need to crop it to the original size\n",
    "    x, y = (len(rotated_disk[0]), len(rotated_disk))\n",
    "\n",
    "    shift_interval = 8\n",
    "    si = shift_interval + 1\n",
    "\n",
    "    rand_x_shift = random.randint(-shift_interval, shift_interval)\n",
    "    rand_y_shift = random.randint(-shift_interval, shift_interval)\n",
    "\n",
    "    (x_lower, x_upper) = int((x/2 - im_size/2)) + \\\n",
    "        rand_x_shift, int(x/2 + im_size/2) + rand_x_shift\n",
    "    (y_lower, y_upper) = int((y/2 - im_size/2)) + \\\n",
    "        rand_y_shift, int(y/2 + im_size/2) + rand_y_shift\n",
    "\n",
    "    return rotated_disk[(x_lower+si):(x_upper-si), (y_lower+si):(y_upper-si)]\n",
    "\n",
    "\n",
    "# This function flips the image horizontally, vertically or both\n",
    "def flip_disk(disk_to_flip):\n",
    "\n",
    "    flipped_disk = disk_to_flip\n",
    "\n",
    "    if bool(random.getrandbits(1)):\n",
    "        flipped_disk = np.fliplr(flipped_disk)\n",
    "\n",
    "    if bool(random.getrandbits(1)):\n",
    "        flipped_disk = np.flipud(flipped_disk)\n",
    "\n",
    "    if bool(random.getrandbits(1)):\n",
    "        flipped_disk = np.flip(flipped_disk)\n",
    "\n",
    "    return flipped_disk\n",
    "\n",
    "\n",
    "# This function augments the image by rotating and flipping it\n",
    "def augment_disk(disk):\n",
    "    angle = random.randint(0, 360)\n",
    "    return rotate_disk(flip_disk(disk), angle)\n",
    "\n",
    "\n",
    "# This function generates the positive dataset\n",
    "def generate_pos_dataset(augmentations_per_gaussian):\n",
    "    count = 0\n",
    "    pos_dataset = []\n",
    "    for gaussian in gaussians:\n",
    "        for i in range(0, augmentations_per_gaussian):\n",
    "            zscale = ZScaleInterval(contrast=0.25, nsamples=1)\n",
    "            # Augment the data and add it to the dataset as png\n",
    "            plt.figure()\n",
    "            plt.imshow(zscale(augment_disk(gaussian.data)),\n",
    "                       origin='lower', cmap='rainbow')\n",
    "            # plt.colorbar()\n",
    "            # plt.title(\"Augmented gaussian\")\n",
    "            # plt.show()\n",
    "\n",
    "            pos_dataset.append(zscale(augment_disk(gaussian.data)))\n",
    "    return pos_dataset\n",
    "\n",
    "\n",
    "# This function generates the negative dataset\n",
    "\n",
    "def generate_neg_dataset(augmentations_per_gaussian):\n",
    "    neg_dataset = []\n",
    "    im_center = im_size/2\n",
    "    y, x = np.mgrid[0:im_size, 0:im_size]\n",
    "    for i in range(0, len(filenames)):\n",
    "        for j in range(0, augmentations_per_gaussian):\n",
    "            rand_x_shift = random.randint(-shift_interval, shift_interval)\n",
    "            rand_y_shift = random.randint(-shift_interval, shift_interval)\n",
    "            data = Gaussian2D(1, im_center + rand_x_shift,\n",
    "                              im_center +\n",
    "                              rand_y_shift, random.randrange(5, 20),\n",
    "                              random.randrange(5, 20), theta=random.randrange(0, 2))(x, y)\n",
    "\n",
    "            zscale = ZScaleInterval(contrast=0.25, nsamples=1)\n",
    "            neg_dataset.append(zscale(augment_disk(data)))\n",
    "    return neg_dataset\n"
   ]
  },
  {
   "cell_type": "code",
   "execution_count": 17,
   "metadata": {},
   "outputs": [
    {
     "name": "stdout",
     "output_type": "stream",
     "text": [
      "8\n"
     ]
    },
    {
     "name": "stderr",
     "output_type": "stream",
     "text": [
      "WARNING: AstropyDeprecationWarning: \"nsamples\" was deprecated in version 5.2 and will be removed in a future version. Use argument \"n_samples\" instead. [warnings]\n"
     ]
    },
    {
     "ename": "ValueError",
     "evalue": "cannot reshape array of size 53792 into shape (8,75,75,1)",
     "output_type": "error",
     "traceback": [
      "\u001b[1;31m---------------------------------------------------------------------------\u001b[0m",
      "\u001b[1;31mValueError\u001b[0m                                Traceback (most recent call last)",
      "Cell \u001b[1;32mIn[17], line 21\u001b[0m\n\u001b[0;32m     19\u001b[0m     input_shape \u001b[39m=\u001b[39m (\u001b[39m1\u001b[39m, img_rows, img_cols)\n\u001b[0;32m     20\u001b[0m \u001b[39melse\u001b[39;00m:\n\u001b[1;32m---> 21\u001b[0m     x_train \u001b[39m=\u001b[39m x_train\u001b[39m.\u001b[39;49mreshape(x_train\u001b[39m.\u001b[39;49mshape[\u001b[39m0\u001b[39;49m], img_rows, img_cols, \u001b[39m1\u001b[39;49m)\n\u001b[0;32m     22\u001b[0m     x_test \u001b[39m=\u001b[39m x_test\u001b[39m.\u001b[39mreshape(x_test\u001b[39m.\u001b[39mshape[\u001b[39m0\u001b[39m], img_rows, img_cols, \u001b[39m1\u001b[39m)\n\u001b[0;32m     23\u001b[0m     input_shape \u001b[39m=\u001b[39m (img_rows, img_cols, \u001b[39m1\u001b[39m)\n",
      "\u001b[1;31mValueError\u001b[0m: cannot reshape array of size 53792 into shape (8,75,75,1)"
     ]
    }
   ],
   "source": [
    "# Hyper-parameters data-loading and formatting\n",
    "batch_size = 128\n",
    "num_classes = 2\n",
    "epochs = 3\n",
    "\n",
    "img_rows, img_cols = im_size, im_size\n",
    "\n",
    "x_train = np.array(generate_neg_dataset(1) + generate_pos_dataset(1))\n",
    "lbl_train = [0] * len(generate_neg_dataset(1)) + [1] * len(generate_pos_dataset(1))\n",
    "\n",
    "print(len(x_train))\n",
    "\n",
    "x_test = np.array(generate_neg_dataset(1) + generate_pos_dataset(1))\n",
    "lbl_test = [0] * len(generate_neg_dataset(1)) + [1] * len(generate_pos_dataset(1))\n",
    "\n",
    "if K.image_data_format() == 'channels_first':\n",
    "    x_train = x_train.reshape(x_train.shape[0], 1, img_rows, img_cols)\n",
    "    x_test = x_test.reshape(x_test.shape[0], 1, img_rows, img_cols)\n",
    "    input_shape = (1, img_rows, img_cols)\n",
    "else:\n",
    "    x_train = x_train.reshape(x_train.shape[0], img_rows, img_cols, 1)\n",
    "    x_test = x_test.reshape(x_test.shape[0], img_rows, img_cols, 1)\n",
    "    input_shape = (img_rows, img_cols, 1)\n"
   ]
  },
  {
   "cell_type": "code",
   "execution_count": null,
   "metadata": {},
   "outputs": [],
   "source": [
    "x_train = x_train.astype('float32')\n",
    "x_test = x_test.astype('float32')\n",
    "\n",
    "x_train /= 255\n",
    "x_test /= 255\n",
    "\n",
    "y_train = keras.utils.np_utils.to_categorical(lbl_train, num_classes)\n",
    "y_test = keras.utils.np_utils.to_categorical(lbl_test, num_classes)\n"
   ]
  }
 ],
 "metadata": {
  "kernelspec": {
   "display_name": "almaEnv",
   "language": "python",
   "name": "python3"
  },
  "language_info": {
   "codemirror_mode": {
    "name": "ipython",
    "version": 3
   },
   "file_extension": ".py",
   "mimetype": "text/x-python",
   "name": "python",
   "nbconvert_exporter": "python",
   "pygments_lexer": "ipython3",
   "version": "3.8.0"
  },
  "orig_nbformat": 4
 },
 "nbformat": 4,
 "nbformat_minor": 2
}
