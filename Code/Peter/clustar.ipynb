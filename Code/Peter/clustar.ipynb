{
 "cells": [
  {
   "cell_type": "code",
   "execution_count": 4,
   "metadata": {},
   "outputs": [],
   "source": [
    "import numpy as np\n",
    "from matplotlib import pyplot as plt\n",
    "from astropy.nddata import Cutout2D\n",
    "from astropy import units\n",
    "from astropy.io import fits\n",
    "from astropy.modeling.models import Gaussian2D\n",
    "import glob\n",
    "from astropy.visualization import astropy_mpl_style\n",
    "from astropy.io import fits\n",
    "from astropy.utils.data import get_pkg_data_filename\n",
    "from clustar.core import ClustarData\n",
    "from clustar.search import Clustar\n",
    "from astropy.visualization import ZScaleInterval\n",
    "from astropy.io import fits\n",
    "import random\n",
    "from scipy.ndimage import rotate\n"
   ]
  },
  {
   "cell_type": "code",
   "execution_count": 5,
   "metadata": {},
   "outputs": [
    {
     "name": "stderr",
     "output_type": "stream",
     "text": [
      "File 'Serpens_South_C7': 100%|\u001b[32m██████████\u001b[0m| 8/8 [00:02<00:00,  2.70file/s, num_errors=0, num_flags=5]\n"
     ]
    }
   ],
   "source": [
    "cs = Clustar(radius_factor = 0.75, threshold = 0.025, )\n",
    "cs.run(directory='data/test_pos')"
   ]
  },
  {
   "cell_type": "code",
   "execution_count": 11,
   "metadata": {},
   "outputs": [
    {
     "ename": "TypeError",
     "evalue": "'Clustar' object is not iterable",
     "output_type": "error",
     "traceback": [
      "\u001b[1;31m---------------------------------------------------------------------------\u001b[0m",
      "\u001b[1;31mTypeError\u001b[0m                                 Traceback (most recent call last)",
      "Cell \u001b[1;32mIn[11], line 11\u001b[0m\n\u001b[0;32m      3\u001b[0m \u001b[39m# print(objects[0].clean())\u001b[39;00m\n\u001b[0;32m      4\u001b[0m \n\u001b[0;32m      5\u001b[0m \u001b[39m# object_0 = (objects[0].Params)\u001b[39;00m\n\u001b[0;32m      6\u001b[0m \n\u001b[0;32m      7\u001b[0m \u001b[39m# print(object_0.radius_factor() )\u001b[39;00m\n\u001b[0;32m      9\u001b[0m cs\u001b[39m.\u001b[39mdisplay(category\u001b[39m=\u001b[39m\u001b[39m'\u001b[39m\u001b[39mall\u001b[39m\u001b[39m'\u001b[39m)\n\u001b[1;32m---> 11\u001b[0m \u001b[39mfor\u001b[39;00m d \u001b[39min\u001b[39;00m cs:\n\u001b[0;32m     12\u001b[0m     d\u001b[39m.\u001b[39midentify()\n",
      "\u001b[1;31mTypeError\u001b[0m: 'Clustar' object is not iterable"
     ]
    }
   ],
   "source": [
    "objects = (cs.data)\n",
    "\n",
    "# print(objects[0].clean())\n",
    "\n",
    "# object_0 = (objects[0].Params)\n",
    "\n",
    "# print(object_0.radius_factor() )\n",
    "\n",
    "cs.display(category='all')\n",
    "\n",
    "for i in range(len(objects)):\n",
    "    objects[i].identify()"
   ]
  },
  {
   "cell_type": "code",
   "execution_count": 16,
   "metadata": {},
   "outputs": [
    {
     "ename": "AttributeError",
     "evalue": "'ClustarData' object has no attribute 'display'",
     "output_type": "error",
     "traceback": [
      "\u001b[1;31m---------------------------------------------------------------------------\u001b[0m",
      "\u001b[1;31mAttributeError\u001b[0m                            Traceback (most recent call last)",
      "Cell \u001b[1;32mIn[16], line 1\u001b[0m\n\u001b[1;32m----> 1\u001b[0m cs\u001b[39m.\u001b[39;49mdata[\u001b[39m0\u001b[39;49m]\u001b[39m.\u001b[39;49mdisplay()\n",
      "\u001b[1;31mAttributeError\u001b[0m: 'ClustarData' object has no attribute 'display'"
     ]
    }
   ],
   "source": [
    "cs.data[0]"
   ]
  }
 ],
 "metadata": {
  "kernelspec": {
   "display_name": "almaEnv",
   "language": "python",
   "name": "python3"
  },
  "language_info": {
   "codemirror_mode": {
    "name": "ipython",
    "version": 3
   },
   "file_extension": ".py",
   "mimetype": "text/x-python",
   "name": "python",
   "nbconvert_exporter": "python",
   "pygments_lexer": "ipython3",
   "version": "3.8.0"
  },
  "orig_nbformat": 4
 },
 "nbformat": 4,
 "nbformat_minor": 2
}
